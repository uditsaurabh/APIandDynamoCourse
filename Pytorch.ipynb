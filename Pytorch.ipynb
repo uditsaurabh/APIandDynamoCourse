{
  "nbformat": 4,
  "nbformat_minor": 0,
  "metadata": {
    "colab": {
      "provenance": [],
      "authorship_tag": "ABX9TyPDoB41cP3DXA3jUB5h3Qdq",
      "include_colab_link": true
    },
    "kernelspec": {
      "name": "python3",
      "display_name": "Python 3"
    },
    "language_info": {
      "name": "python"
    }
  },
  "cells": [
    {
      "cell_type": "markdown",
      "metadata": {
        "id": "view-in-github",
        "colab_type": "text"
      },
      "source": [
        "<a href=\"https://colab.research.google.com/github/uditsaurabh/APIandDynamoCourse/blob/lesson4/Pytorch.ipynb\" target=\"_parent\"><img src=\"https://colab.research.google.com/assets/colab-badge.svg\" alt=\"Open In Colab\"/></a>"
      ]
    },
    {
      "cell_type": "markdown",
      "source": [
        "Tensor initialization.\n",
        "How to create a tensor?\n",
        "device attribute defiens what kind of device we will be using for this tensor operstions..\n",
        "\n",
        "RuntimeError                              Traceback (most recent call last)\n",
        "<ipython-input-7-c988eb3ca81b> in <cell line: 2>()\n",
        "      1 import torch\n",
        "----> 2 my_tensor = torch.tensor([[1,2,3],[4,5,6]],dtype = torch.float64,device='gpu')\n",
        "\n",
        "RuntimeError: Expected one of cpu, cuda, ipu, xpu, mkldnn, opengl, opencl, ideep, hip, ve, fpga, ort, xla, lazy, vulkan, mps, meta, hpu, mtia, privateuseone device type at start of device string: gpu\n",
        "\n",
        "Required ggrad will be used tocomputev the gradient."
      ],
      "metadata": {
        "id": "4w3ftOAFCM6j"
      }
    },
    {
      "cell_type": "code",
      "execution_count": 2,
      "metadata": {
        "id": "k_CEWTyDBHLp"
      },
      "outputs": [],
      "source": [
        "import torch\n",
        "\n",
        "device = 'cuda' if torch.cuda.is_available() else \"cpu\"\n",
        "# Set default dtype to torch.double\n",
        "torch.set_default_dtype(torch.double)\n",
        "\n",
        "my_tensor = torch.tensor([[],[]],dtype = torch.double,device=device,requires_grad=True)"
      ]
    },
    {
      "cell_type": "code",
      "source": [
        "my_tensor"
      ],
      "metadata": {
        "colab": {
          "base_uri": "https://localhost:8080/"
        },
        "id": "DzYAYDioBJvb",
        "outputId": "fd067f7d-bc56-418a-d481-ac7bd55cdbe6"
      },
      "execution_count": 3,
      "outputs": [
        {
          "output_type": "execute_result",
          "data": {
            "text/plain": [
              "tensor([], size=(2, 0), requires_grad=True)"
            ]
          },
          "metadata": {},
          "execution_count": 3
        }
      ]
    },
    {
      "cell_type": "code",
      "source": [
        "my_tensor.dtype"
      ],
      "metadata": {
        "colab": {
          "base_uri": "https://localhost:8080/"
        },
        "id": "Vk7SAyF5BJ1H",
        "outputId": "f88e2782-2950-4c43-c1bf-07d0aca94737"
      },
      "execution_count": 4,
      "outputs": [
        {
          "output_type": "execute_result",
          "data": {
            "text/plain": [
              "torch.float64"
            ]
          },
          "metadata": {},
          "execution_count": 4
        }
      ]
    },
    {
      "cell_type": "code",
      "source": [
        "double_tensor = torch.empty(3, dtype=torch.double)\n",
        "print(double_tensor.dtype)  # Output: torch.float64 (double)\n",
        "\n",
        "double_tensor_zeros = torch.zeros(2, 2, dtype=torch.double)\n",
        "print(double_tensor_zeros.dtype)  # Output: torch.float64 (double)"
      ],
      "metadata": {
        "colab": {
          "base_uri": "https://localhost:8080/"
        },
        "id": "RiyfcMNoBJ6Q",
        "outputId": "020a1441-8185-45d1-a764-eac54cfd9cd7"
      },
      "execution_count": 5,
      "outputs": [
        {
          "output_type": "stream",
          "name": "stdout",
          "text": [
            "torch.float64\n",
            "torch.float64\n"
          ]
        }
      ]
    },
    {
      "cell_type": "code",
      "source": [
        "float_tensor = torch.tensor([3.0, 4.0])\n",
        "double_tensor = float_tensor.double()\n",
        "print(double_tensor.dtype)"
      ],
      "metadata": {
        "colab": {
          "base_uri": "https://localhost:8080/"
        },
        "id": "Nb0hlF2fBJ-R",
        "outputId": "35702e33-c970-409d-b6b0-5934b99fb6e5"
      },
      "execution_count": 6,
      "outputs": [
        {
          "output_type": "stream",
          "name": "stdout",
          "text": [
            "torch.float64\n"
          ]
        }
      ]
    },
    {
      "cell_type": "code",
      "source": [
        "# shows the device\n",
        "print(double_tensor.device)"
      ],
      "metadata": {
        "colab": {
          "base_uri": "https://localhost:8080/"
        },
        "id": "ERvPv3qkBKDH",
        "outputId": "bd653322-d49b-479c-afc9-71059db91616"
      },
      "execution_count": 7,
      "outputs": [
        {
          "output_type": "stream",
          "name": "stdout",
          "text": [
            "cpu\n"
          ]
        }
      ]
    },
    {
      "cell_type": "markdown",
      "source": [
        "Other common methods to intialize the tensors"
      ],
      "metadata": {
        "id": "kvHuxY1pEEwf"
      }
    },
    {
      "cell_type": "code",
      "source": [
        "x = torch.empty(size = (3,3))\n",
        "x"
      ],
      "metadata": {
        "id": "YS-YwWCQBKIQ",
        "colab": {
          "base_uri": "https://localhost:8080/"
        },
        "outputId": "7166a0e5-bd9b-42ef-e1f0-229f39cb53f8"
      },
      "execution_count": 12,
      "outputs": [
        {
          "output_type": "execute_result",
          "data": {
            "text/plain": [
              "tensor([[4.6493e-310, 5.3028e+180,  6.0074e-67],\n",
              "        [ 4.7402e+97,  6.7609e-67, 4.2672e+126],\n",
              "        [4.2522e+180, 7.4854e+247, 2.3236e+251]])"
            ]
          },
          "metadata": {},
          "execution_count": 12
        }
      ]
    },
    {
      "cell_type": "code",
      "source": [
        "y = torch.zeros(size = (2,4))\n",
        "y"
      ],
      "metadata": {
        "id": "JoxNG3yTBKMm",
        "colab": {
          "base_uri": "https://localhost:8080/"
        },
        "outputId": "95e3b30f-6e0c-4401-c418-a0aa85843558"
      },
      "execution_count": 13,
      "outputs": [
        {
          "output_type": "execute_result",
          "data": {
            "text/plain": [
              "tensor([[0., 0., 0., 0.],\n",
              "        [0., 0., 0., 0.]])"
            ]
          },
          "metadata": {},
          "execution_count": 13
        }
      ]
    },
    {
      "cell_type": "code",
      "source": [
        "z = torch.rand(size=(3,4))\n",
        "z"
      ],
      "metadata": {
        "id": "3Ly7sXQZBKQ1",
        "colab": {
          "base_uri": "https://localhost:8080/"
        },
        "outputId": "2d61b00f-adf7-4331-c5b3-4bbf3b6e4c10"
      },
      "execution_count": 14,
      "outputs": [
        {
          "output_type": "execute_result",
          "data": {
            "text/plain": [
              "tensor([[0.5677, 0.3108, 0.5167, 0.8517],\n",
              "        [0.7111, 0.5068, 0.7982, 0.0155],\n",
              "        [0.5202, 0.7887, 0.5268, 0.7535]])"
            ]
          },
          "metadata": {},
          "execution_count": 14
        }
      ]
    },
    {
      "cell_type": "code",
      "source": [
        "a = torch.ones(size=(3,3))\n",
        "b = torch.eye(3,3)\n",
        "(a,b)"
      ],
      "metadata": {
        "id": "0PvK5D2HBKWH",
        "colab": {
          "base_uri": "https://localhost:8080/"
        },
        "outputId": "89dd797f-d970-4b09-dce6-4dd7eb424b36"
      },
      "execution_count": 17,
      "outputs": [
        {
          "output_type": "execute_result",
          "data": {
            "text/plain": [
              "(tensor([[1., 1., 1.],\n",
              "         [1., 1., 1.],\n",
              "         [1., 1., 1.]]),\n",
              " tensor([[1., 0., 0.],\n",
              "         [0., 1., 0.],\n",
              "         [0., 0., 1.]]))"
            ]
          },
          "metadata": {},
          "execution_count": 17
        }
      ]
    },
    {
      "cell_type": "code",
      "source": [
        "x =torch.arange(start=0,end=15,step=3)\n",
        "x"
      ],
      "metadata": {
        "id": "r8nrmHhzBKb9",
        "colab": {
          "base_uri": "https://localhost:8080/"
        },
        "outputId": "0d7dac8f-f4da-46e5-ae1f-a9e316285f89"
      },
      "execution_count": 19,
      "outputs": [
        {
          "output_type": "execute_result",
          "data": {
            "text/plain": [
              "tensor([ 0,  3,  6,  9, 12])"
            ]
          },
          "metadata": {},
          "execution_count": 19
        }
      ]
    },
    {
      "cell_type": "code",
      "source": [
        "l = torch.linspace(start=0,end=10,steps=100)\n",
        "l"
      ],
      "metadata": {
        "id": "AT56DbJDBKgn",
        "colab": {
          "base_uri": "https://localhost:8080/"
        },
        "outputId": "3ee96581-1c3f-41fe-d680-bdef6bb24fae"
      },
      "execution_count": 21,
      "outputs": [
        {
          "output_type": "execute_result",
          "data": {
            "text/plain": [
              "tensor([ 0.0000,  0.1010,  0.2020,  0.3030,  0.4040,  0.5051,  0.6061,  0.7071,\n",
              "         0.8081,  0.9091,  1.0101,  1.1111,  1.2121,  1.3131,  1.4141,  1.5152,\n",
              "         1.6162,  1.7172,  1.8182,  1.9192,  2.0202,  2.1212,  2.2222,  2.3232,\n",
              "         2.4242,  2.5253,  2.6263,  2.7273,  2.8283,  2.9293,  3.0303,  3.1313,\n",
              "         3.2323,  3.3333,  3.4343,  3.5354,  3.6364,  3.7374,  3.8384,  3.9394,\n",
              "         4.0404,  4.1414,  4.2424,  4.3434,  4.4444,  4.5455,  4.6465,  4.7475,\n",
              "         4.8485,  4.9495,  5.0505,  5.1515,  5.2525,  5.3535,  5.4545,  5.5556,\n",
              "         5.6566,  5.7576,  5.8586,  5.9596,  6.0606,  6.1616,  6.2626,  6.3636,\n",
              "         6.4646,  6.5657,  6.6667,  6.7677,  6.8687,  6.9697,  7.0707,  7.1717,\n",
              "         7.2727,  7.3737,  7.4747,  7.5758,  7.6768,  7.7778,  7.8788,  7.9798,\n",
              "         8.0808,  8.1818,  8.2828,  8.3838,  8.4848,  8.5859,  8.6869,  8.7879,\n",
              "         8.8889,  8.9899,  9.0909,  9.1919,  9.2929,  9.3939,  9.4949,  9.5960,\n",
              "         9.6970,  9.7980,  9.8990, 10.0000])"
            ]
          },
          "metadata": {},
          "execution_count": 21
        }
      ]
    },
    {
      "cell_type": "markdown",
      "source": [
        "mean and std"
      ],
      "metadata": {
        "id": "LzaqjBlJGfvf"
      }
    },
    {
      "cell_type": "code",
      "source": [
        "n = torch.empty(size=(1,10)).normal_(mean=0,std=.5)\n",
        "n"
      ],
      "metadata": {
        "id": "hqf-gKFKBKlL",
        "colab": {
          "base_uri": "https://localhost:8080/"
        },
        "outputId": "67ba0a1b-6bcc-4c68-e2ae-136fd86872f8"
      },
      "execution_count": 24,
      "outputs": [
        {
          "output_type": "execute_result",
          "data": {
            "text/plain": [
              "tensor([[ 0.4110, -0.7539,  0.1744,  0.3589,  0.2445,  0.0525,  0.4148, -0.5668,\n",
              "          1.0330, -0.4843]])"
            ]
          },
          "metadata": {},
          "execution_count": 24
        }
      ]
    },
    {
      "cell_type": "code",
      "source": [
        "d =torch.empty(size=(1,10)).uniform_(0,1)\n",
        "d"
      ],
      "metadata": {
        "id": "dqq84mNIBKrn",
        "colab": {
          "base_uri": "https://localhost:8080/"
        },
        "outputId": "d75ce7f3-d34e-4ce8-ab7f-357386a6a9ce"
      },
      "execution_count": 26,
      "outputs": [
        {
          "output_type": "execute_result",
          "data": {
            "text/plain": [
              "tensor([[0.7784, 0.1091, 0.8575, 0.4625, 0.0706, 0.7562, 0.3783, 0.3036, 0.4683,\n",
              "         0.6876]])"
            ]
          },
          "metadata": {},
          "execution_count": 26
        }
      ]
    },
    {
      "cell_type": "code",
      "source": [
        "o = torch.diag(torch.ones(5))\n",
        "o"
      ],
      "metadata": {
        "id": "NISay3m_BKz_",
        "colab": {
          "base_uri": "https://localhost:8080/"
        },
        "outputId": "3e9bf95f-7cbd-477a-a54a-8fa93b733900"
      },
      "execution_count": 30,
      "outputs": [
        {
          "output_type": "execute_result",
          "data": {
            "text/plain": [
              "tensor([[1., 0., 0., 0., 0.],\n",
              "        [0., 1., 0., 0., 0.],\n",
              "        [0., 0., 1., 0., 0.],\n",
              "        [0., 0., 0., 1., 0.],\n",
              "        [0., 0., 0., 0., 1.]])"
            ]
          },
          "metadata": {},
          "execution_count": 30
        }
      ]
    },
    {
      "cell_type": "markdown",
      "source": [
        "How to intialize the tensors to the different types"
      ],
      "metadata": {
        "id": "shkwsRGSHuPa"
      }
    },
    {
      "cell_type": "code",
      "source": [],
      "metadata": {
        "id": "LNIQqsdaBK4_"
      },
      "execution_count": 7,
      "outputs": []
    },
    {
      "cell_type": "code",
      "source": [],
      "metadata": {
        "id": "nNMNCe9FBK_s"
      },
      "execution_count": 7,
      "outputs": []
    },
    {
      "cell_type": "code",
      "source": [],
      "metadata": {
        "id": "5pr1BEK2BLFa"
      },
      "execution_count": 7,
      "outputs": []
    },
    {
      "cell_type": "code",
      "source": [],
      "metadata": {
        "id": "_ly-SZeIBLNP"
      },
      "execution_count": 7,
      "outputs": []
    },
    {
      "cell_type": "code",
      "source": [],
      "metadata": {
        "id": "BOAeRgGiBLTg"
      },
      "execution_count": 7,
      "outputs": []
    },
    {
      "cell_type": "code",
      "source": [],
      "metadata": {
        "id": "fHTa06I8BLZR"
      },
      "execution_count": 7,
      "outputs": []
    },
    {
      "cell_type": "code",
      "source": [],
      "metadata": {
        "id": "VmQ2BIt2BLhW"
      },
      "execution_count": 7,
      "outputs": []
    },
    {
      "cell_type": "code",
      "source": [],
      "metadata": {
        "id": "zc8nIUrOBLny"
      },
      "execution_count": 7,
      "outputs": []
    },
    {
      "cell_type": "code",
      "source": [],
      "metadata": {
        "id": "FdN2p7T0BLtu"
      },
      "execution_count": 7,
      "outputs": []
    },
    {
      "cell_type": "code",
      "source": [],
      "metadata": {
        "id": "1gKmf59jBLzc"
      },
      "execution_count": 7,
      "outputs": []
    },
    {
      "cell_type": "code",
      "source": [],
      "metadata": {
        "id": "Yd6csA2MBL5T"
      },
      "execution_count": 7,
      "outputs": []
    },
    {
      "cell_type": "code",
      "source": [],
      "metadata": {
        "id": "IoXkzfmOBL_m"
      },
      "execution_count": 7,
      "outputs": []
    },
    {
      "cell_type": "code",
      "source": [],
      "metadata": {
        "id": "xVWxwiOvBMGi"
      },
      "execution_count": 7,
      "outputs": []
    },
    {
      "cell_type": "code",
      "source": [],
      "metadata": {
        "id": "5hKULtniBMM0"
      },
      "execution_count": 7,
      "outputs": []
    },
    {
      "cell_type": "code",
      "source": [],
      "metadata": {
        "id": "7VAUF8SkBMUR"
      },
      "execution_count": 7,
      "outputs": []
    },
    {
      "cell_type": "code",
      "source": [],
      "metadata": {
        "id": "Zol-gItdBMu2"
      },
      "execution_count": 7,
      "outputs": []
    },
    {
      "cell_type": "code",
      "source": [],
      "metadata": {
        "id": "Bxgqeyx_BM70"
      },
      "execution_count": 7,
      "outputs": []
    },
    {
      "cell_type": "code",
      "source": [],
      "metadata": {
        "id": "2msI5WCVBNbe"
      },
      "execution_count": 7,
      "outputs": []
    },
    {
      "cell_type": "code",
      "source": [],
      "metadata": {
        "id": "A78QdEHHBOHD"
      },
      "execution_count": 7,
      "outputs": []
    },
    {
      "cell_type": "code",
      "source": [],
      "metadata": {
        "id": "SimOX-3zBOgf"
      },
      "execution_count": 7,
      "outputs": []
    },
    {
      "cell_type": "code",
      "source": [],
      "metadata": {
        "id": "FWCivLQSBOoC"
      },
      "execution_count": 7,
      "outputs": []
    },
    {
      "cell_type": "code",
      "source": [],
      "metadata": {
        "id": "sXjLUFLHBOvE"
      },
      "execution_count": 7,
      "outputs": []
    },
    {
      "cell_type": "code",
      "source": [],
      "metadata": {
        "id": "DBczj-VpBO3k"
      },
      "execution_count": 7,
      "outputs": []
    },
    {
      "cell_type": "code",
      "source": [],
      "metadata": {
        "id": "n1Tn3YT2BO_Q"
      },
      "execution_count": 7,
      "outputs": []
    },
    {
      "cell_type": "code",
      "source": [],
      "metadata": {
        "id": "Bfd9yCGBBPFM"
      },
      "execution_count": 7,
      "outputs": []
    },
    {
      "cell_type": "code",
      "source": [],
      "metadata": {
        "id": "np1Jy5XEBPLF"
      },
      "execution_count": 7,
      "outputs": []
    },
    {
      "cell_type": "code",
      "source": [],
      "metadata": {
        "id": "vFnwzFDkBPQu"
      },
      "execution_count": 7,
      "outputs": []
    },
    {
      "cell_type": "code",
      "source": [],
      "metadata": {
        "id": "CW1CT3uXBPYC"
      },
      "execution_count": 7,
      "outputs": []
    },
    {
      "cell_type": "code",
      "source": [],
      "metadata": {
        "id": "NFz-uU83BPey"
      },
      "execution_count": 7,
      "outputs": []
    },
    {
      "cell_type": "code",
      "source": [],
      "metadata": {
        "id": "MAUCudFjBPmL"
      },
      "execution_count": 7,
      "outputs": []
    },
    {
      "cell_type": "code",
      "source": [],
      "metadata": {
        "id": "vckfQiFVBPsT"
      },
      "execution_count": 7,
      "outputs": []
    },
    {
      "cell_type": "code",
      "source": [],
      "metadata": {
        "id": "isPACzqOBPy4"
      },
      "execution_count": 7,
      "outputs": []
    },
    {
      "cell_type": "code",
      "source": [],
      "metadata": {
        "id": "ZHQX_jpSBP6q"
      },
      "execution_count": 7,
      "outputs": []
    },
    {
      "cell_type": "code",
      "source": [],
      "metadata": {
        "id": "HLDLDA2cBQBp"
      },
      "execution_count": 7,
      "outputs": []
    },
    {
      "cell_type": "code",
      "source": [],
      "metadata": {
        "id": "TuXlTIv1BQHj"
      },
      "execution_count": 7,
      "outputs": []
    },
    {
      "cell_type": "code",
      "source": [],
      "metadata": {
        "id": "pu9_tDaLBQO6"
      },
      "execution_count": 7,
      "outputs": []
    },
    {
      "cell_type": "code",
      "source": [],
      "metadata": {
        "id": "KAUiVNxxBQVY"
      },
      "execution_count": 7,
      "outputs": []
    },
    {
      "cell_type": "code",
      "source": [],
      "metadata": {
        "id": "-lCObpBcBQb-"
      },
      "execution_count": 7,
      "outputs": []
    },
    {
      "cell_type": "code",
      "source": [],
      "metadata": {
        "id": "JV5Qipi_BQiK"
      },
      "execution_count": 7,
      "outputs": []
    },
    {
      "cell_type": "code",
      "source": [],
      "metadata": {
        "id": "TMyOK-cYBQoQ"
      },
      "execution_count": 7,
      "outputs": []
    },
    {
      "cell_type": "code",
      "source": [],
      "metadata": {
        "id": "luQ0xphqBQuu"
      },
      "execution_count": 7,
      "outputs": []
    },
    {
      "cell_type": "code",
      "source": [],
      "metadata": {
        "id": "IoT5ScUEBQ1N"
      },
      "execution_count": 7,
      "outputs": []
    },
    {
      "cell_type": "code",
      "source": [],
      "metadata": {
        "id": "UquYOdTTBQ7r"
      },
      "execution_count": 7,
      "outputs": []
    },
    {
      "cell_type": "code",
      "source": [],
      "metadata": {
        "id": "YiijnXlYBRB_"
      },
      "execution_count": 7,
      "outputs": []
    },
    {
      "cell_type": "code",
      "source": [],
      "metadata": {
        "id": "2N9L3tgkBRK2"
      },
      "execution_count": 7,
      "outputs": []
    }
  ]
}